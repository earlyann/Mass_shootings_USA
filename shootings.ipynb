{
 "cells": [
  {
   "cell_type": "code",
   "execution_count": 75,
   "metadata": {},
   "outputs": [],
   "source": [
    "import pandas as pd\n",
    "import matplotlib.pyplot as plt\n",
    "import plotly.express as px\n",
    "import numpy as np\n",
    "import geopandas as gpd\n",
    "from shapely.geometry import Point\n"
   ]
  },
  {
   "cell_type": "code",
   "execution_count": 64,
   "metadata": {},
   "outputs": [
    {
     "data": {
      "text/html": [
       "<div>\n",
       "<style scoped>\n",
       "    .dataframe tbody tr th:only-of-type {\n",
       "        vertical-align: middle;\n",
       "    }\n",
       "\n",
       "    .dataframe tbody tr th {\n",
       "        vertical-align: top;\n",
       "    }\n",
       "\n",
       "    .dataframe thead th {\n",
       "        text-align: right;\n",
       "    }\n",
       "</style>\n",
       "<table border=\"1\" class=\"dataframe\">\n",
       "  <thead>\n",
       "    <tr style=\"text-align: right;\">\n",
       "      <th></th>\n",
       "      <th>case</th>\n",
       "      <th>location</th>\n",
       "      <th>date</th>\n",
       "      <th>summary</th>\n",
       "      <th>fatalities</th>\n",
       "      <th>injured</th>\n",
       "      <th>total_victims</th>\n",
       "      <th>location.1</th>\n",
       "      <th>age_of_shooter</th>\n",
       "      <th>prior_signs_mental_health_issues</th>\n",
       "      <th>...</th>\n",
       "      <th>weapons_obtained_legally</th>\n",
       "      <th>where_obtained</th>\n",
       "      <th>weapon_type</th>\n",
       "      <th>weapon_details</th>\n",
       "      <th>race</th>\n",
       "      <th>gender</th>\n",
       "      <th>latitude</th>\n",
       "      <th>longitude</th>\n",
       "      <th>type</th>\n",
       "      <th>year</th>\n",
       "    </tr>\n",
       "  </thead>\n",
       "  <tbody>\n",
       "    <tr>\n",
       "      <th>0</th>\n",
       "      <td>Nashville religious school shooting</td>\n",
       "      <td>Nashville, TN</td>\n",
       "      <td>3-27-23</td>\n",
       "      <td>Audrey Hale, 28, who was a former student at t...</td>\n",
       "      <td>6</td>\n",
       "      <td>1</td>\n",
       "      <td>6</td>\n",
       "      <td>School</td>\n",
       "      <td>28</td>\n",
       "      <td>-</td>\n",
       "      <td>...</td>\n",
       "      <td>-</td>\n",
       "      <td>-</td>\n",
       "      <td>semiautomatic rifle, semiautomatic handgun</td>\n",
       "      <td>-</td>\n",
       "      <td>-</td>\n",
       "      <td>F (identified as transgender, per police)</td>\n",
       "      <td>-</td>\n",
       "      <td>-</td>\n",
       "      <td>Mass</td>\n",
       "      <td>2023</td>\n",
       "    </tr>\n",
       "    <tr>\n",
       "      <th>1</th>\n",
       "      <td>Michigan State University shooting</td>\n",
       "      <td>East Lansing, Michigan</td>\n",
       "      <td>2-13-23</td>\n",
       "      <td>Anthony D. McRae, 43, opened fire at Berkey Ha...</td>\n",
       "      <td>3</td>\n",
       "      <td>5</td>\n",
       "      <td>8</td>\n",
       "      <td>School</td>\n",
       "      <td>43</td>\n",
       "      <td>-</td>\n",
       "      <td>...</td>\n",
       "      <td>yes</td>\n",
       "      <td>-</td>\n",
       "      <td>semiautomatic handguns</td>\n",
       "      <td>-</td>\n",
       "      <td>Black</td>\n",
       "      <td>M</td>\n",
       "      <td>-</td>\n",
       "      <td>-</td>\n",
       "      <td>Mass</td>\n",
       "      <td>2023</td>\n",
       "    </tr>\n",
       "    <tr>\n",
       "      <th>2</th>\n",
       "      <td>Half Moon Bay spree shooting</td>\n",
       "      <td>Half Moon Bay, California</td>\n",
       "      <td>1-23-23</td>\n",
       "      <td>Chunli Zhao, 67, suspected of carrying out the...</td>\n",
       "      <td>7</td>\n",
       "      <td>1</td>\n",
       "      <td>8</td>\n",
       "      <td>workplace</td>\n",
       "      <td>67</td>\n",
       "      <td>-</td>\n",
       "      <td>...</td>\n",
       "      <td>-</td>\n",
       "      <td>-</td>\n",
       "      <td>semiautomatic handgun</td>\n",
       "      <td>-</td>\n",
       "      <td>Asian</td>\n",
       "      <td>M</td>\n",
       "      <td>-</td>\n",
       "      <td>-</td>\n",
       "      <td>Spree</td>\n",
       "      <td>2023</td>\n",
       "    </tr>\n",
       "    <tr>\n",
       "      <th>3</th>\n",
       "      <td>LA dance studio mass shooting</td>\n",
       "      <td>Monterey Park, California</td>\n",
       "      <td>1-21-23</td>\n",
       "      <td>Huu Can Tran, 72, fled the scene in a white va...</td>\n",
       "      <td>11</td>\n",
       "      <td>10</td>\n",
       "      <td>21</td>\n",
       "      <td>Other</td>\n",
       "      <td>72</td>\n",
       "      <td>yes</td>\n",
       "      <td>...</td>\n",
       "      <td>-</td>\n",
       "      <td>-</td>\n",
       "      <td>semiautomatic assault weapon (Details pending)</td>\n",
       "      <td>-</td>\n",
       "      <td>Asian</td>\n",
       "      <td>M</td>\n",
       "      <td>-</td>\n",
       "      <td>-</td>\n",
       "      <td>Mass</td>\n",
       "      <td>2023</td>\n",
       "    </tr>\n",
       "    <tr>\n",
       "      <th>4</th>\n",
       "      <td>Virginia Walmart shooting</td>\n",
       "      <td>Chesapeake, Virginia</td>\n",
       "      <td>11-22-22</td>\n",
       "      <td>Andre Bing, 31, who worked as a supervisor at ...</td>\n",
       "      <td>6</td>\n",
       "      <td>6</td>\n",
       "      <td>12</td>\n",
       "      <td>Workplace</td>\n",
       "      <td>31</td>\n",
       "      <td>-</td>\n",
       "      <td>...</td>\n",
       "      <td>-</td>\n",
       "      <td>-</td>\n",
       "      <td>semiautomatic handgun</td>\n",
       "      <td>-</td>\n",
       "      <td>Black</td>\n",
       "      <td>M</td>\n",
       "      <td>-</td>\n",
       "      <td>-</td>\n",
       "      <td>Mass</td>\n",
       "      <td>2022</td>\n",
       "    </tr>\n",
       "  </tbody>\n",
       "</table>\n",
       "<p>5 rows × 21 columns</p>\n",
       "</div>"
      ],
      "text/plain": [
       "                                  case                   location      date  \\\n",
       "0  Nashville religious school shooting              Nashville, TN   3-27-23   \n",
       "1   Michigan State University shooting     East Lansing, Michigan   2-13-23   \n",
       "2         Half Moon Bay spree shooting  Half Moon Bay, California   1-23-23   \n",
       "3        LA dance studio mass shooting  Monterey Park, California   1-21-23   \n",
       "4            Virginia Walmart shooting       Chesapeake, Virginia  11-22-22   \n",
       "\n",
       "                                             summary  fatalities injured  \\\n",
       "0  Audrey Hale, 28, who was a former student at t...           6       1   \n",
       "1  Anthony D. McRae, 43, opened fire at Berkey Ha...           3       5   \n",
       "2  Chunli Zhao, 67, suspected of carrying out the...           7       1   \n",
       "3  Huu Can Tran, 72, fled the scene in a white va...          11      10   \n",
       "4  Andre Bing, 31, who worked as a supervisor at ...           6       6   \n",
       "\n",
       "  total_victims location.1 age_of_shooter prior_signs_mental_health_issues  \\\n",
       "0             6     School             28                                -   \n",
       "1             8     School             43                                -   \n",
       "2             8  workplace             67                                -   \n",
       "3            21      Other             72                              yes   \n",
       "4            12  Workplace             31                                -   \n",
       "\n",
       "   ... weapons_obtained_legally where_obtained  \\\n",
       "0  ...                        -              -   \n",
       "1  ...                      yes              -   \n",
       "2  ...                        -              -   \n",
       "3  ...                        -              -   \n",
       "4  ...                        -              -   \n",
       "\n",
       "                                      weapon_type weapon_details   race  \\\n",
       "0      semiautomatic rifle, semiautomatic handgun              -      -   \n",
       "1                          semiautomatic handguns              -  Black   \n",
       "2                           semiautomatic handgun              -  Asian   \n",
       "3  semiautomatic assault weapon (Details pending)              -  Asian   \n",
       "4                           semiautomatic handgun              -  Black   \n",
       "\n",
       "                                      gender latitude longitude   type  year  \n",
       "0  F (identified as transgender, per police)        -         -   Mass  2023  \n",
       "1                                          M        -         -   Mass  2023  \n",
       "2                                          M        -         -  Spree  2023  \n",
       "3                                          M        -         -   Mass  2023  \n",
       "4                                          M        -         -   Mass  2022  \n",
       "\n",
       "[5 rows x 21 columns]"
      ]
     },
     "execution_count": 64,
     "metadata": {},
     "output_type": "execute_result"
    }
   ],
   "source": [
    "df =pd.read_csv('shooting-1982-2023.csv')\n",
    "\n",
    "df.head()"
   ]
  },
  {
   "cell_type": "code",
   "execution_count": 65,
   "metadata": {},
   "outputs": [
    {
     "data": {
      "text/plain": [
       "(141, 21)"
      ]
     },
     "execution_count": 65,
     "metadata": {},
     "output_type": "execute_result"
    }
   ],
   "source": [
    "df.shape"
   ]
  },
  {
   "cell_type": "code",
   "execution_count": 66,
   "metadata": {},
   "outputs": [
    {
     "data": {
      "text/plain": [
       "case                                0\n",
       "location                            0\n",
       "date                                0\n",
       "summary                             0\n",
       "fatalities                          0\n",
       "injured                             0\n",
       "total_victims                       0\n",
       "location.1                          0\n",
       "age_of_shooter                      0\n",
       "prior_signs_mental_health_issues    0\n",
       "mental_health_details               0\n",
       "weapons_obtained_legally            0\n",
       "where_obtained                      0\n",
       "weapon_type                         0\n",
       "weapon_details                      1\n",
       "race                                0\n",
       "gender                              0\n",
       "latitude                            0\n",
       "longitude                           0\n",
       "type                                0\n",
       "year                                0\n",
       "dtype: int64"
      ]
     },
     "execution_count": 66,
     "metadata": {},
     "output_type": "execute_result"
    }
   ],
   "source": [
    "df.isnull().sum()"
   ]
  },
  {
   "cell_type": "code",
   "execution_count": 67,
   "metadata": {},
   "outputs": [
    {
     "data": {
      "text/plain": [
       "case                                object\n",
       "location                            object\n",
       "date                                object\n",
       "summary                             object\n",
       "fatalities                           int64\n",
       "injured                             object\n",
       "total_victims                       object\n",
       "location.1                          object\n",
       "age_of_shooter                      object\n",
       "prior_signs_mental_health_issues    object\n",
       "mental_health_details               object\n",
       "weapons_obtained_legally            object\n",
       "where_obtained                      object\n",
       "weapon_type                         object\n",
       "weapon_details                      object\n",
       "race                                object\n",
       "gender                              object\n",
       "latitude                            object\n",
       "longitude                           object\n",
       "type                                object\n",
       "year                                 int64\n",
       "dtype: object"
      ]
     },
     "execution_count": 67,
     "metadata": {},
     "output_type": "execute_result"
    }
   ],
   "source": [
    "df.dtypes"
   ]
  },
  {
   "cell_type": "code",
   "execution_count": 68,
   "metadata": {},
   "outputs": [],
   "source": [
    "# Change location columns to float for mapping\n",
    "df[['latitude','longitude']] = df[['latitude','longitude']].apply(pd.to_numeric, errors='coerce')\n",
    "\n",
    "# Change date to datetime type\n",
    "df['date'] = pd.to_datetime(df['date'], errors='coerce', format='%Y-%m-%d')"
   ]
  },
  {
   "cell_type": "code",
   "execution_count": 69,
   "metadata": {},
   "outputs": [],
   "source": [
    "# Change these columns to int type\n",
    "\n",
    "# Getting an invalid literal \"fewer than 10\" error when trying to convert the injured column to int, changing it to 0\n",
    "# df['injured'].value_counts()\n",
    " \n",
    "# Drop the row containing the specific value in any of the columns\n",
    "df = df[~df[['injured', 'total_victims', 'age_of_shooter']].apply(lambda x: x.str.contains('TK - \"fewer than 10\"')).any(axis=1)]\n",
    "df = df[~df[['injured', 'total_victims', 'age_of_shooter']].apply(lambda x: x.str.contains('-')).any(axis=1)]\n",
    "\n",
    "# Convert columns to integers\n",
    "df[['injured', 'total_victims', 'age_of_shooter']] = df[['injured', 'total_victims', 'age_of_shooter']].astype(int)"
   ]
  },
  {
   "cell_type": "code",
   "execution_count": 70,
   "metadata": {},
   "outputs": [
    {
     "data": {
      "text/plain": [
       "case                                        object\n",
       "location                                    object\n",
       "date                                datetime64[ns]\n",
       "summary                                     object\n",
       "fatalities                                   int64\n",
       "injured                                      int64\n",
       "total_victims                                int64\n",
       "location.1                                  object\n",
       "age_of_shooter                               int64\n",
       "prior_signs_mental_health_issues            object\n",
       "mental_health_details                       object\n",
       "weapons_obtained_legally                    object\n",
       "where_obtained                              object\n",
       "weapon_type                                 object\n",
       "weapon_details                              object\n",
       "race                                        object\n",
       "gender                                      object\n",
       "latitude                                   float64\n",
       "longitude                                  float64\n",
       "type                                        object\n",
       "year                                         int64\n",
       "dtype: object"
      ]
     },
     "execution_count": 70,
     "metadata": {},
     "output_type": "execute_result"
    }
   ],
   "source": [
    "df.dtypes"
   ]
  },
  {
   "cell_type": "code",
   "execution_count": 71,
   "metadata": {},
   "outputs": [
    {
     "data": {
      "text/plain": [
       "(138, 21)"
      ]
     },
     "execution_count": 71,
     "metadata": {},
     "output_type": "execute_result"
    }
   ],
   "source": [
    "df.shape"
   ]
  },
  {
   "attachments": {},
   "cell_type": "markdown",
   "metadata": {},
   "source": [
    "### Save the DataFrame to GEOJSON for Mapping in Leaflet"
   ]
  },
  {
   "cell_type": "code",
   "execution_count": 76,
   "metadata": {},
   "outputs": [
    {
     "name": "stderr",
     "output_type": "stream",
     "text": [
      "/opt/anaconda3/lib/python3.9/site-packages/geopandas/io/file.py:299: FutureWarning: pandas.Int64Index is deprecated and will be removed from pandas in a future version. Use pandas.Index with the appropriate dtype instead.\n",
      "  pd.Int64Index,\n"
     ]
    }
   ],
   "source": [
    "# Convert the DataFrame to a GeoDataFrame\n",
    "geometry = [Point(xy) for xy in zip(df['longitude'], df['latitude'])]\n",
    "gdf = gpd.GeoDataFrame(df, geometry=geometry)\n",
    "\n",
    "# Save the GeoDataFrame as a GeoJSON file\n",
    "gdf.to_file(\"data.geojson\", driver='GeoJSON')"
   ]
  },
  {
   "cell_type": "code",
   "execution_count": null,
   "metadata": {},
   "outputs": [],
   "source": []
  }
 ],
 "metadata": {
  "kernelspec": {
   "display_name": "PythonData",
   "language": "python",
   "name": "pythondata"
  },
  "language_info": {
   "codemirror_mode": {
    "name": "ipython",
    "version": 3
   },
   "file_extension": ".py",
   "mimetype": "text/x-python",
   "name": "python",
   "nbconvert_exporter": "python",
   "pygments_lexer": "ipython3",
   "version": "3.9.13"
  },
  "orig_nbformat": 4
 },
 "nbformat": 4,
 "nbformat_minor": 2
}
